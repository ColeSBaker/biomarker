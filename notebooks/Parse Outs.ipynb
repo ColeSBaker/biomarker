{
 "cells": [
  {
   "cell_type": "code",
   "execution_count": 1,
   "metadata": {},
   "outputs": [],
   "source": [
    "import re\n",
    "from io import StringIO\n",
    "import pandas as pd"
   ]
  },
  {
   "cell_type": "code",
   "execution_count": 2,
   "metadata": {},
   "outputs": [],
   "source": [
    "def parse_x1(num, header=['Center Number', 'Atomic Number', 'Atomic Type', 'X', 'Y', 'Z']):\n",
    "    out = open(\"../data/raw/outs/\" + str(num) + \".out\", \"r\")\n",
    "    outtxt = out.read()\n",
    "    so = re.finditer('(S|s)tandard orientation', outtxt)\n",
    "    for s in so:\n",
    "        pass\n",
    "    last_so = s.end()\n",
    "    delim = re.finditer('---------------------------------------------------------------------', outtxt[last_so:])\n",
    "    \n",
    "    i = 0\n",
    "    for d in delim:\n",
    "        if i == 1:\n",
    "            first_delim_end = d.end()\n",
    "        if i == 2:\n",
    "            second_delim_start = d.start()\n",
    "        i += 1\n",
    "        \n",
    "    return pd.read_csv(StringIO(outtxt[last_so+first_delim_end:last_so+second_delim_start]), delim_whitespace=True, header=None, names=header)\n",
    "    "
   ]
  },
  {
   "cell_type": "code",
   "execution_count": 3,
   "metadata": {},
   "outputs": [],
   "source": [
    "def parse_x2_occ(num):\n",
    "    out = open(\"../data/raw/outs/\" + str(num) + \".out\", \"r\")\n",
    "    outtxt = out.read()\n",
    "    alpha_occ = re.finditer('(A|a)lpha  occ. eigenvalues --', outtxt)\n",
    "\n",
    "    all_rows = []\n",
    "    rows = []\n",
    "    for occ in alpha_occ:\n",
    "        l = outtxt[occ.end():occ.end()+51]\n",
    "        match = re.search('A', l)\n",
    "        if match is not None:\n",
    "            print(match)\n",
    "            rows.append(list(filter(lambda a: a != '', re.split('\\s', outtxt[occ.end():occ.end()+match.start()-2]))))\n",
    "            all_rows.append(rows)\n",
    "            rows = []\n",
    "        else:\n",
    "            rows.append(list(filter(lambda a: a != '', re.split('\\s', l))))\n",
    "            \n",
    "    return pd.DataFrame(all_rows[len(all_rows)-1])"
   ]
  },
  {
   "cell_type": "code",
   "execution_count": 4,
   "metadata": {},
   "outputs": [],
   "source": [
    "def parse_x2_virt(num):\n",
    "    out = open(\"../data/raw/outs/\" + str(num) + \".out\", \"r\")\n",
    "    outtxt = out.read()\n",
    "    alpha_occ = re.finditer('(A|a)lpha virt. eigenvalues --', outtxt)\n",
    "\n",
    "    all_rows = []\n",
    "    rows = []\n",
    "    le = 0\n",
    "    occ = next(alpha_occ, None)\n",
    "    while occ is not None:\n",
    "        le = occ.end()\n",
    "        l = outtxt[occ.end():occ.end()+51]\n",
    "        occ = next(alpha_occ, None)\n",
    "        if occ is None or occ.start() - le > 55:\n",
    "            rows.append(list(filter(lambda a: a != '' and a != 'Condensed' and a != 'to', re.split('\\s', l))))\n",
    "            all_rows.append(rows)\n",
    "            rows = []\n",
    "        else:\n",
    "            rows.append(list(filter(lambda a: a != '', re.split('\\s', l))))\n",
    "            \n",
    "    return pd.DataFrame(all_rows[len(all_rows)-1])"
   ]
  },
  {
   "cell_type": "code",
   "execution_count": 5,
   "metadata": {},
   "outputs": [
    {
     "ename": "FileNotFoundError",
     "evalue": "[Errno 2] No such file or directory: '../data/raw/outs/186.out'",
     "output_type": "error",
     "traceback": [
      "\u001b[0;31m---------------------------------------------------------------------------\u001b[0m",
      "\u001b[0;31mFileNotFoundError\u001b[0m                         Traceback (most recent call last)",
      "\u001b[0;32m<ipython-input-5-e1059c58ec65>\u001b[0m in \u001b[0;36m<module>\u001b[0;34m()\u001b[0m\n\u001b[1;32m      1\u001b[0m \u001b[0mnum\u001b[0m \u001b[0;34m=\u001b[0m \u001b[0;36m186\u001b[0m\u001b[0;34m\u001b[0m\u001b[0m\n\u001b[0;32m----> 2\u001b[0;31m \u001b[0mparse_x2_virt\u001b[0m\u001b[0;34m(\u001b[0m\u001b[0mnum\u001b[0m\u001b[0;34m)\u001b[0m\u001b[0;34m\u001b[0m\u001b[0m\n\u001b[0m",
      "\u001b[0;32m<ipython-input-4-2d74f59bf8a4>\u001b[0m in \u001b[0;36mparse_x2_virt\u001b[0;34m(num)\u001b[0m\n\u001b[1;32m      1\u001b[0m \u001b[0;32mdef\u001b[0m \u001b[0mparse_x2_virt\u001b[0m\u001b[0;34m(\u001b[0m\u001b[0mnum\u001b[0m\u001b[0;34m)\u001b[0m\u001b[0;34m:\u001b[0m\u001b[0;34m\u001b[0m\u001b[0m\n\u001b[0;32m----> 2\u001b[0;31m     \u001b[0mout\u001b[0m \u001b[0;34m=\u001b[0m \u001b[0mopen\u001b[0m\u001b[0;34m(\u001b[0m\u001b[0;34m\"../data/raw/outs/\"\u001b[0m \u001b[0;34m+\u001b[0m \u001b[0mstr\u001b[0m\u001b[0;34m(\u001b[0m\u001b[0mnum\u001b[0m\u001b[0;34m)\u001b[0m \u001b[0;34m+\u001b[0m \u001b[0;34m\".out\"\u001b[0m\u001b[0;34m,\u001b[0m \u001b[0;34m\"r\"\u001b[0m\u001b[0;34m)\u001b[0m\u001b[0;34m\u001b[0m\u001b[0m\n\u001b[0m\u001b[1;32m      3\u001b[0m     \u001b[0mouttxt\u001b[0m \u001b[0;34m=\u001b[0m \u001b[0mout\u001b[0m\u001b[0;34m.\u001b[0m\u001b[0mread\u001b[0m\u001b[0;34m(\u001b[0m\u001b[0;34m)\u001b[0m\u001b[0;34m\u001b[0m\u001b[0m\n\u001b[1;32m      4\u001b[0m     \u001b[0malpha_occ\u001b[0m \u001b[0;34m=\u001b[0m \u001b[0mre\u001b[0m\u001b[0;34m.\u001b[0m\u001b[0mfinditer\u001b[0m\u001b[0;34m(\u001b[0m\u001b[0;34m'(A|a)lpha virt. eigenvalues --'\u001b[0m\u001b[0;34m,\u001b[0m \u001b[0mouttxt\u001b[0m\u001b[0;34m)\u001b[0m\u001b[0;34m\u001b[0m\u001b[0m\n\u001b[1;32m      5\u001b[0m \u001b[0;34m\u001b[0m\u001b[0m\n",
      "\u001b[0;31mFileNotFoundError\u001b[0m: [Errno 2] No such file or directory: '../data/raw/outs/186.out'"
     ]
    }
   ],
   "source": [
    "num = 186\n",
    "parse_x2_virt(num)"
   ]
  },
  {
   "cell_type": "code",
   "execution_count": null,
   "metadata": {},
   "outputs": [],
   "source": [
    "\n"
   ]
  },
  {
   "cell_type": "code",
   "execution_count": null,
   "metadata": {},
   "outputs": [],
   "source": []
  },
  {
   "cell_type": "code",
   "execution_count": null,
   "metadata": {},
   "outputs": [],
   "source": []
  },
  {
   "cell_type": "code",
   "execution_count": null,
   "metadata": {},
   "outputs": [],
   "source": []
  },
  {
   "cell_type": "code",
   "execution_count": null,
   "metadata": {},
   "outputs": [],
   "source": []
  },
  {
   "cell_type": "code",
   "execution_count": null,
   "metadata": {},
   "outputs": [],
   "source": []
  },
  {
   "cell_type": "code",
   "execution_count": null,
   "metadata": {},
   "outputs": [],
   "source": []
  },
  {
   "cell_type": "code",
   "execution_count": null,
   "metadata": {},
   "outputs": [],
   "source": []
  },
  {
   "cell_type": "code",
   "execution_count": null,
   "metadata": {},
   "outputs": [],
   "source": []
  },
  {
   "cell_type": "code",
   "execution_count": null,
   "metadata": {},
   "outputs": [],
   "source": []
  }
 ],
 "metadata": {
  "kernelspec": {
   "display_name": "Python 3",
   "language": "python",
   "name": "python3"
  },
  "language_info": {
   "codemirror_mode": {
    "name": "ipython",
    "version": 3
   },
   "file_extension": ".py",
   "mimetype": "text/x-python",
   "name": "python",
   "nbconvert_exporter": "python",
   "pygments_lexer": "ipython3",
   "version": "3.6.4"
  }
 },
 "nbformat": 4,
 "nbformat_minor": 2
}
