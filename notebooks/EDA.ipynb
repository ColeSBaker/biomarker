{
 "cells": [
  {
   "cell_type": "markdown",
   "metadata": {},
   "source": [
    "# Exploratory Data Analysis and Initial Models\n",
    "\n",
    "This notebook contains code for reading and reformatting data along with the code and results for a couple ad-hoc models. "
   ]
  },
  {
   "cell_type": "code",
   "execution_count": 1,
   "metadata": {},
   "outputs": [],
   "source": [
    "import os\n",
    "\n",
    "import pandas as pd\n",
    "import numpy as np\n",
    "import matplotlib.pyplot as plt"
   ]
  },
  {
   "cell_type": "markdown",
   "metadata": {},
   "source": [
    "## Reading Data"
   ]
  },
  {
   "cell_type": "markdown",
   "metadata": {},
   "source": [
    "The `file_numbers` denotes the molecule excel spreadsheets that are to be read. This variable is also referenced later as a indexing list."
   ]
  },
  {
   "cell_type": "code",
   "execution_count": 2,
   "metadata": {},
   "outputs": [],
   "source": [
    "raw_loc_base = '../data/raw'\n",
    "file_numbers = ['17', '19', '20','21','22','23','25','26','41','42','44','45']"
   ]
  },
  {
   "cell_type": "code",
   "execution_count": 3,
   "metadata": {},
   "outputs": [],
   "source": [
    "master_name = 'Input information and X10 - X18.xlsx'\n",
    "master_loc = os.path.join(raw_loc_base, master_name)\n",
    "# Read the master file with X10-X18 variables and mappings between file_numbers and the sample\n",
    "master = pd.read_excel(master_loc, sheet='inputs', header=0)"
   ]
  },
  {
   "cell_type": "code",
   "execution_count": 4,
   "metadata": {},
   "outputs": [
    {
     "data": {
      "text/html": [
       "<div>\n",
       "<style scoped>\n",
       "    .dataframe tbody tr th:only-of-type {\n",
       "        vertical-align: middle;\n",
       "    }\n",
       "\n",
       "    .dataframe tbody tr th {\n",
       "        vertical-align: top;\n",
       "    }\n",
       "\n",
       "    .dataframe thead th {\n",
       "        text-align: right;\n",
       "    }\n",
       "</style>\n",
       "<table border=\"1\" class=\"dataframe\">\n",
       "  <thead>\n",
       "    <tr style=\"text-align: right;\">\n",
       "      <th></th>\n",
       "      <th>Input</th>\n",
       "      <th>Key</th>\n",
       "      <th>X10: Category Method</th>\n",
       "      <th>X11: Temperature (K)</th>\n",
       "      <th>X12: [Salt*Valency]</th>\n",
       "      <th>X13: Category Salt type</th>\n",
       "      <th>X14: [Buffer] (mM)</th>\n",
       "      <th>X15: pH</th>\n",
       "      <th>X16: CI number</th>\n",
       "      <th>X17: CI</th>\n",
       "      <th>X18: CP</th>\n",
       "      <th>Output: logK</th>\n",
       "    </tr>\n",
       "  </thead>\n",
       "  <tbody>\n",
       "    <tr>\n",
       "      <th>0</th>\n",
       "      <td>1</td>\n",
       "      <td>17</td>\n",
       "      <td>A</td>\n",
       "      <td>298</td>\n",
       "      <td>0</td>\n",
       "      <td>0</td>\n",
       "      <td>0</td>\n",
       "      <td>6.00</td>\n",
       "      <td>0</td>\n",
       "      <td>NaN</td>\n",
       "      <td>CP_3</td>\n",
       "      <td>4.39</td>\n",
       "    </tr>\n",
       "    <tr>\n",
       "      <th>1</th>\n",
       "      <td>2</td>\n",
       "      <td>17</td>\n",
       "      <td>B</td>\n",
       "      <td>298</td>\n",
       "      <td>0</td>\n",
       "      <td>0</td>\n",
       "      <td>50</td>\n",
       "      <td>4.74</td>\n",
       "      <td>0</td>\n",
       "      <td>NaN</td>\n",
       "      <td>NaN</td>\n",
       "      <td>4.39</td>\n",
       "    </tr>\n",
       "    <tr>\n",
       "      <th>2</th>\n",
       "      <td>3</td>\n",
       "      <td>19</td>\n",
       "      <td>A</td>\n",
       "      <td>298</td>\n",
       "      <td>0</td>\n",
       "      <td>0</td>\n",
       "      <td>0</td>\n",
       "      <td>6.00</td>\n",
       "      <td>1</td>\n",
       "      <td>CI_2</td>\n",
       "      <td>CP_3</td>\n",
       "      <td>4.63</td>\n",
       "    </tr>\n",
       "    <tr>\n",
       "      <th>3</th>\n",
       "      <td>4</td>\n",
       "      <td>20</td>\n",
       "      <td>A</td>\n",
       "      <td>298</td>\n",
       "      <td>0</td>\n",
       "      <td>0</td>\n",
       "      <td>0</td>\n",
       "      <td>6.00</td>\n",
       "      <td>2</td>\n",
       "      <td>CI_1</td>\n",
       "      <td>CP_3</td>\n",
       "      <td>4.80</td>\n",
       "    </tr>\n",
       "    <tr>\n",
       "      <th>4</th>\n",
       "      <td>5</td>\n",
       "      <td>21</td>\n",
       "      <td>A</td>\n",
       "      <td>298</td>\n",
       "      <td>0</td>\n",
       "      <td>0</td>\n",
       "      <td>0</td>\n",
       "      <td>6.00</td>\n",
       "      <td>2</td>\n",
       "      <td>CI_2</td>\n",
       "      <td>CP_3</td>\n",
       "      <td>4.90</td>\n",
       "    </tr>\n",
       "  </tbody>\n",
       "</table>\n",
       "</div>"
      ],
      "text/plain": [
       "   Input  Key X10: Category Method  X11: Temperature (K)  X12: [Salt*Valency]  \\\n",
       "0      1   17                    A                   298                    0   \n",
       "1      2   17                    B                   298                    0   \n",
       "2      3   19                    A                   298                    0   \n",
       "3      4   20                    A                   298                    0   \n",
       "4      5   21                    A                   298                    0   \n",
       "\n",
       "   X13: Category Salt type  X14: [Buffer] (mM)  X15: pH  X16: CI number  \\\n",
       "0                        0                   0     6.00               0   \n",
       "1                        0                  50     4.74               0   \n",
       "2                        0                   0     6.00               1   \n",
       "3                        0                   0     6.00               2   \n",
       "4                        0                   0     6.00               2   \n",
       "\n",
       "  X17: CI  X18: CP  Output: logK  \n",
       "0      NaN    CP_3          4.39  \n",
       "1      NaN     NaN          4.39  \n",
       "2     CI_2    CP_3          4.63  \n",
       "3     CI_1    CP_3          4.80  \n",
       "4     CI_2    CP_3          4.90  "
      ]
     },
     "execution_count": 4,
     "metadata": {},
     "output_type": "execute_result"
    }
   ],
   "source": [
    "master.head()"
   ]
  },
  {
   "cell_type": "markdown",
   "metadata": {},
   "source": [
    "The following block contains functions that read each sheet of the X1-X9 data mapped to from the `Key` column above and read from the `file_numbers` list. "
   ]
  },
  {
   "cell_type": "code",
   "execution_count": 5,
   "metadata": {},
   "outputs": [],
   "source": [
    "def read_X1(file_name, sheet_name='X1', col_names=['atom_number', 'AMU', 'x', 'y', 'z']):\n",
    "    return pd.read_excel(file_name, sheet_name=sheet_name, header=None, names=col_names)\n",
    "    \n",
    "def read_X2(file_name, sheet_name='X2', col_name='occupied'):\n",
    "    df = pd.read_excel(file_name, sheet_name=sheet_name, header=None)\n",
    "    flat = df.values.flatten()\n",
    "    return pd.Series(flat[~np.isnan(flat)]).rename(col_name)\n",
    "\n",
    "def read_X2V(file_name, sheet_name='X2V', col_name='virtual'):\n",
    "    df = pd.read_excel(file_name, sheet_name=sheet_name, header=None)\n",
    "    flat = df.values.flatten()\n",
    "    return pd.Series(flat[~np.isnan(flat)]).rename(col_name)\n",
    "\n",
    "def read_X3(file_name, sheet_name='X3'):\n",
    "    return pd.read_excel(file_name, sheet_name=sheet_name, header=None)\n",
    "\n",
    "def read_X4(file_name, sheet_name='X4'):\n",
    "    return pd.read_excel(file_name, sheet_name=sheet_name, header=None)\n",
    "\n",
    "def read_X5(file_name, sheet_name='X5', col_names=['electric_potential', 'x', 'y', 'z']):\n",
    "    return pd.read_excel(file_name, sheet_name=sheet_name, header=None, names=col_names)\n",
    "\n",
    "def read_X6(file_name, sheet_name='X6', col_names=['XX', 'YY', 'ZZ', 'XY', 'XZ', 'YZ']):\n",
    "    return pd.read_excel(file_name, sheet_name=sheet_name, header=None, names=col_names)\n",
    "\n",
    "def read_X7(file_name, sheet_name='X7'):\n",
    "    return pd.read_excel(file_name, sheet_name='X7', header=None)\n",
    "\n",
    "def read_X8(file_name, sheet_name='X8', col_name='SCF'):\n",
    "    df = pd.read_excel(file_name, sheet_name=sheet_name, header=None)\n",
    "    flat = df.values.flatten()\n",
    "    return pd.Series(flat[~np.isnan(flat)]).rename(col_name)\n",
    "    \n",
    "def read_X9(file_name, sheet_name='X9', col_name='MO'):\n",
    "    df = pd.read_excel(file_name, sheet_name=sheet_name, header=None)\n",
    "    flat = df.values.flatten()\n",
    "    return pd.Series(flat[~np.isnan(flat)]).rename(col_name)"
   ]
  },
  {
   "cell_type": "markdown",
   "metadata": {},
   "source": [
    "## Preprocessing"
   ]
  },
  {
   "cell_type": "markdown",
   "metadata": {},
   "source": [
    "The following 10 code blocks read each sheet for each excel file and transforms the data into a much smaller vector representation. Many of the sheets are non-square matrices, so dimensionality reduction was performed by running Singular Value Decomposition (SVD) and taking a subset of the singular values. For sheets that are large vectors, the mean of the vector was used. Obviously, this preprocessing throws away a ton of information, but it was fast and easy to code up while taking little mental effort. We should think about ways to better retain the information about these variables in the future. \n",
    "\n",
    "Each sheet is stored in an array that holds the reformatted data for that variable for each file. These arrays are later used to transform these variables to matrices and are fed into learners. "
   ]
  },
  {
   "cell_type": "code",
   "execution_count": 6,
   "metadata": {},
   "outputs": [],
   "source": [
    "X1 = []\n",
    "for num in file_numbers:\n",
    "    x = read_X1(os.path.join(raw_loc_base, num+'.xlsx'))\n",
    "    u,s,v = np.linalg.svd(x.values)\n",
    "    X1.append(s)"
   ]
  },
  {
   "cell_type": "code",
   "execution_count": 7,
   "metadata": {},
   "outputs": [],
   "source": [
    "X2 = []\n",
    "for num in file_numbers:\n",
    "    x = read_X2(os.path.join(raw_loc_base, num+'.xlsx'))\n",
    "    X2.append(np.array(np.mean(x)))"
   ]
  },
  {
   "cell_type": "code",
   "execution_count": 8,
   "metadata": {},
   "outputs": [],
   "source": [
    "X2V = []\n",
    "for num in file_numbers:\n",
    "    x = read_X2V(os.path.join(raw_loc_base, num+'.xlsx'))\n",
    "    X2V.append(np.array(np.mean(x)))"
   ]
  },
  {
   "cell_type": "code",
   "execution_count": 9,
   "metadata": {},
   "outputs": [],
   "source": [
    "X3 = []\n",
    "cutoff = 5\n",
    "for num in file_numbers:\n",
    "    x = read_X3(os.path.join(raw_loc_base, num+'.xlsx'))\n",
    "    u,s,v = np.linalg.svd(x.values)\n",
    "    X3.append(s[:cutoff])"
   ]
  },
  {
   "cell_type": "code",
   "execution_count": 10,
   "metadata": {},
   "outputs": [],
   "source": [
    "X4 = []\n",
    "for num in file_numbers:\n",
    "    x = read_X4(os.path.join(raw_loc_base, num+'.xlsx'))\n",
    "    u,s,v = np.linalg.svd(x.values)\n",
    "    X4.append(s)"
   ]
  },
  {
   "cell_type": "code",
   "execution_count": 11,
   "metadata": {},
   "outputs": [],
   "source": [
    "X5 = []\n",
    "for num in file_numbers:\n",
    "    x = read_X5(os.path.join(raw_loc_base, num+'.xlsx'))\n",
    "    u,s,v = np.linalg.svd(x.values)\n",
    "    X5.append(s)"
   ]
  },
  {
   "cell_type": "code",
   "execution_count": 12,
   "metadata": {},
   "outputs": [],
   "source": [
    "X6 = []\n",
    "cutoff = 5\n",
    "for num in file_numbers:\n",
    "    x = read_X6(os.path.join(raw_loc_base, num+'.xlsx'))\n",
    "    try:\n",
    "        u,s,v = np.linalg.svd(x.values)\n",
    "        X6.append(s[:cutoff])\n",
    "    except Exception:\n",
    "        X6.append(np.zeros(shape=(cutoff)))\n",
    "    "
   ]
  },
  {
   "cell_type": "code",
   "execution_count": 13,
   "metadata": {},
   "outputs": [],
   "source": [
    "X7 = []\n",
    "for num in file_numbers:\n",
    "    x = read_X7(os.path.join(raw_loc_base, num+'.xlsx'))\n",
    "    try:\n",
    "        u,s,v = np.linalg.svd(x.values)\n",
    "        X7.append(s)\n",
    "    except Exception:\n",
    "        X7.append(np.zeros(shape=(3)))"
   ]
  },
  {
   "cell_type": "code",
   "execution_count": 14,
   "metadata": {},
   "outputs": [],
   "source": [
    "X8 = []\n",
    "for num in file_numbers:\n",
    "    x = read_X8(os.path.join(raw_loc_base, num+'.xlsx'))\n",
    "    X8.append(np.array(np.mean(x)))"
   ]
  },
  {
   "cell_type": "code",
   "execution_count": 15,
   "metadata": {},
   "outputs": [],
   "source": [
    "X9 = []\n",
    "for num in file_numbers:\n",
    "    x = read_X9(os.path.join(raw_loc_base, num+'.xlsx'))\n",
    "    X9.append(np.array(np.mean(x)))"
   ]
  },
  {
   "cell_type": "code",
   "execution_count": 16,
   "metadata": {},
   "outputs": [],
   "source": [
    "# Combine all sheet variables into list\n",
    "XS = [X1, X2, X2V, X3, X4, X5, X6, X7, X8, X9]"
   ]
  },
  {
   "cell_type": "code",
   "execution_count": 17,
   "metadata": {},
   "outputs": [
    {
     "data": {
      "text/plain": [
       "0    4.39\n",
       "1    4.39\n",
       "2    4.63\n",
       "3    4.80\n",
       "4    4.90\n",
       "Name: Output: logK, dtype: float64"
      ]
     },
     "execution_count": 17,
     "metadata": {},
     "output_type": "execute_result"
    }
   ],
   "source": [
    "y = master['Output: logK']\n",
    "y.head()"
   ]
  },
  {
   "cell_type": "code",
   "execution_count": 18,
   "metadata": {},
   "outputs": [],
   "source": [
    "# drop the output, input columns\n",
    "master_drop = master.drop(['Output: logK', 'Input'], axis=1)"
   ]
  },
  {
   "cell_type": "code",
   "execution_count": 19,
   "metadata": {},
   "outputs": [],
   "source": [
    "# Break out categorical variables with dummy columns\n",
    "X = pd.get_dummies(master_drop)"
   ]
  },
  {
   "cell_type": "markdown",
   "metadata": {},
   "source": [
    "## Learning Algorithms\n",
    "\n",
    "This section throws a few learning algorithms at the data. Specifically, we use linear regression and regression trees. The dataset is incredibly small, so we use the mean scores from 5-fold cross-validation as \"results\".\n",
    "\n",
    "For the first run, only the master sheet (X10-X18) is used as an input for the algorithms. For the second run, only the X1-X9 variables are used. The final run concatenates both datasets together for a total of 28 examples with 41 columns each."
   ]
  },
  {
   "cell_type": "code",
   "execution_count": 20,
   "metadata": {},
   "outputs": [
    {
     "name": "stderr",
     "output_type": "stream",
     "text": [
      "/Users/tgebhart/.virtualenvs/biomarker/lib/python3.6/site-packages/sklearn/linear_model/base.py:509: RuntimeWarning: internal gelsd driver lwork query error, required iwork dimension not returned. This is likely the result of LAPACK bug 0038, fixed in LAPACK 3.2.2 (released July 21, 2010). Falling back to 'gelss' driver.\n",
      "  linalg.lstsq(X, y)\n"
     ]
    },
    {
     "data": {
      "image/png": "[encoded data removed]",
      "text/plain": [
       "<Figure size 432x288 with 1 Axes>"
      ]
     },
     "metadata": {},
     "output_type": "display_data"
    }
   ],
   "source": [
    "from sklearn import preprocessing\n",
    "from sklearn.model_selection import cross_val_predict\n",
    "from sklearn.model_selection import train_test_split\n",
    "from sklearn.model_selection import cross_val_score\n",
    "from sklearn import linear_model\n",
    "\n",
    "lr = linear_model.LinearRegression()\n",
    "scaler = preprocessing.StandardScaler().fit(X)\n",
    "X_transformed = scaler.transform(X)\n",
    "predicted = cross_val_predict(lr, X_transformed, y, cv=10)\n",
    "\n",
    "\n",
    "fig, ax = plt.subplots()\n",
    "ax.scatter(y, predicted, edgecolors=(0, 0, 0))\n",
    "ax.plot([y.min(), y.max()], [y.min(), y.max()], 'k--', lw=4)\n",
    "ax.set_xlabel('Measured')\n",
    "ax.set_ylabel('Predicted')\n",
    "plt.show()"
   ]
  },
  {
   "cell_type": "code",
   "execution_count": 21,
   "metadata": {},
   "outputs": [
    {
     "name": "stdout",
     "output_type": "stream",
     "text": [
      "MSE: 10.09 (+/- 34.97)\n"
     ]
    }
   ],
   "source": [
    "scores = cross_val_score(lr, X_transformed, y, cv=5, scoring='neg_mean_squared_error')\n",
    "print(\"MSE: %0.2f (+/- %0.2f)\" % (-1*scores.mean(), scores.std() * 2))"
   ]
  },
  {
   "cell_type": "code",
   "execution_count": 22,
   "metadata": {},
   "outputs": [
    {
     "name": "stdout",
     "output_type": "stream",
     "text": [
      "MSE: 1.77 (+/- 0.97)\n"
     ]
    }
   ],
   "source": [
    "from sklearn.tree import DecisionTreeRegressor\n",
    "from sklearn.metrics import mean_squared_error\n",
    "regr_1 = DecisionTreeRegressor(max_depth=2)\n",
    "\n",
    "scores = cross_val_score(regr_1, X_transformed, y, cv=5, scoring='neg_mean_squared_error')\n",
    "print(\"MSE: %0.2f (+/- %0.2f)\" % (-1*scores.mean(), scores.std() * 2))"
   ]
  },
  {
   "cell_type": "code",
   "execution_count": 23,
   "metadata": {},
   "outputs": [
    {
     "name": "stdout",
     "output_type": "stream",
     "text": [
      "MSE: 1.37 (+/- 0.99)\n"
     ]
    }
   ],
   "source": [
    "regr_2 = DecisionTreeRegressor(max_depth=5)\n",
    "\n",
    "scores = cross_val_score(regr_2, X_transformed, y, cv=5, scoring='neg_mean_squared_error')\n",
    "print(\"MSE: %0.2f (+/- %0.2f)\" % (-1*scores.mean(), scores.std() * 2))"
   ]
  },
  {
   "cell_type": "code",
   "execution_count": 24,
   "metadata": {},
   "outputs": [
    {
     "name": "stdout",
     "output_type": "stream",
     "text": [
      "25 3\n"
     ]
    }
   ],
   "source": [
    "X_train, X_test, y_train, y_test = train_test_split(X_transformed, y.values, test_size=0.1, random_state=0)\n",
    "print(X_train.shape[0],X_test.shape[0])"
   ]
  },
  {
   "cell_type": "code",
   "execution_count": 25,
   "metadata": {},
   "outputs": [
    {
     "name": "stdout",
     "output_type": "stream",
     "text": [
      "MSE: 1.1894106666666668\n"
     ]
    }
   ],
   "source": [
    "regr_2.fit(X_train, y_train)\n",
    "y_pred = regr_2.predict(X_test)\n",
    "\n",
    "print('MSE: {}'.format(mean_squared_error(y_test, y_pred)))"
   ]
  },
  {
   "cell_type": "code",
   "execution_count": null,
   "metadata": {},
   "outputs": [],
   "source": []
  },
  {
   "cell_type": "code",
   "execution_count": 26,
   "metadata": {
    "scrolled": true
   },
   "outputs": [],
   "source": [
    "all_cols = []\n",
    "for idx, row in master_drop.iterrows():\n",
    "    indexof = file_numbers.index(str(row['Key']))\n",
    "    cols = None\n",
    "    for feature in XS:\n",
    "        if cols is None:\n",
    "            cols = feature[indexof]\n",
    "        else:\n",
    "            if feature[indexof].shape:\n",
    "                cols = np.concatenate((cols, feature[indexof]))\n",
    "    all_cols.append(cols)"
   ]
  },
  {
   "cell_type": "code",
   "execution_count": 27,
   "metadata": {},
   "outputs": [],
   "source": [
    "more_data = pd.DataFrame(all_cols)\n",
    "X_more = more_data.values"
   ]
  },
  {
   "cell_type": "code",
   "execution_count": 28,
   "metadata": {},
   "outputs": [
    {
     "data": {
      "image/png": "[encoded data removed]",
      "text/plain": [
       "<Figure size 432x288 with 1 Axes>"
      ]
     },
     "metadata": {},
     "output_type": "display_data"
    }
   ],
   "source": [
    "lr = linear_model.LinearRegression()\n",
    "scaler = preprocessing.StandardScaler().fit(X_more)\n",
    "X_more_transformed = scaler.transform(X_more)\n",
    "predicted_more = cross_val_predict(lr, X_more_transformed, y, cv=10)\n",
    "\n",
    "fig, ax = plt.subplots()\n",
    "ax.scatter(y, predicted_more, edgecolors=(0, 0, 0))\n",
    "ax.plot([y.min(), y.max()], [y.min(), y.max()], 'k--', lw=4)\n",
    "ax.set_xlabel('Measured')\n",
    "ax.set_ylabel('Predicted')\n",
    "plt.show()"
   ]
  },
  {
   "cell_type": "code",
   "execution_count": 29,
   "metadata": {},
   "outputs": [
    {
     "name": "stdout",
     "output_type": "stream",
     "text": [
      "MSE: 4.67 (+/- 8.06)\n"
     ]
    }
   ],
   "source": [
    "scores = cross_val_score(lr, X_more_transformed, y, cv=5, scoring='neg_mean_squared_error')\n",
    "print(\"MSE: %0.2f (+/- %0.2f)\" % (-1*scores.mean(), scores.std() * 2))"
   ]
  },
  {
   "cell_type": "code",
   "execution_count": 30,
   "metadata": {},
   "outputs": [
    {
     "name": "stdout",
     "output_type": "stream",
     "text": [
      "MSE: 3.58 (+/- 5.16)\n"
     ]
    }
   ],
   "source": [
    "regr_1 = DecisionTreeRegressor(max_depth=2)\n",
    "\n",
    "scores = cross_val_score(regr_1, X_more_transformed, y, cv=5, scoring='neg_mean_squared_error')\n",
    "print(\"MSE: %0.2f (+/- %0.2f)\" % (-1*scores.mean(), scores.std() * 2))"
   ]
  },
  {
   "cell_type": "code",
   "execution_count": 31,
   "metadata": {},
   "outputs": [
    {
     "name": "stdout",
     "output_type": "stream",
     "text": [
      "MSE: 3.13 (+/- 4.41)\n"
     ]
    }
   ],
   "source": [
    "regr_2 = DecisionTreeRegressor(max_depth=5)\n",
    "\n",
    "scores = cross_val_score(regr_2, X_more_transformed, y, cv=5, scoring='neg_mean_squared_error')\n",
    "print(\"MSE: %0.2f (+/- %0.2f)\" % (-1*scores.mean(), scores.std() * 2))"
   ]
  },
  {
   "cell_type": "code",
   "execution_count": 32,
   "metadata": {},
   "outputs": [
    {
     "name": "stdout",
     "output_type": "stream",
     "text": [
      "MSE: 1.100450000000001\n"
     ]
    }
   ],
   "source": [
    "X_train, X_test, y_train, y_test = train_test_split(X_more_transformed, y.values, test_size=0.1, random_state=0)\n",
    "regr_2.fit(X_train, y_train)\n",
    "y_pred = regr_2.predict(X_test)\n",
    "\n",
    "print('MSE: {}'.format(mean_squared_error(y_test, y_pred)))"
   ]
  },
  {
   "cell_type": "code",
   "execution_count": 33,
   "metadata": {},
   "outputs": [
    {
     "data": {
      "text/plain": [
       "(28, 41)"
      ]
     },
     "execution_count": 33,
     "metadata": {},
     "output_type": "execute_result"
    }
   ],
   "source": [
    "X_combined = np.hstack((X_transformed, X_more_transformed))\n",
    "X_combined.shape"
   ]
  },
  {
   "cell_type": "code",
   "execution_count": 34,
   "metadata": {},
   "outputs": [
    {
     "data": {
      "image/png": "[encoded data removed]",
      "text/plain": [
       "<Figure size 432x288 with 1 Axes>"
      ]
     },
     "metadata": {},
     "output_type": "display_data"
    }
   ],
   "source": [
    "lr = linear_model.LinearRegression()\n",
    "predicted_combined = cross_val_predict(lr, X_combined, y, cv=10)\n",
    "\n",
    "fig, ax = plt.subplots()\n",
    "ax.scatter(y, predicted_combined, edgecolors=(0, 0, 0))\n",
    "ax.plot([y.min(), y.max()], [y.min(), y.max()], 'k--', lw=4)\n",
    "ax.set_xlabel('Measured')\n",
    "ax.set_ylabel('Predicted')\n",
    "plt.show()"
   ]
  },
  {
   "cell_type": "code",
   "execution_count": 35,
   "metadata": {},
   "outputs": [
    {
     "name": "stdout",
     "output_type": "stream",
     "text": [
      "MSE: 3.30 (+/- 5.81)\n"
     ]
    }
   ],
   "source": [
    "scores = cross_val_score(lr, X_combined, y, cv=5, scoring='neg_mean_squared_error')\n",
    "print(\"MSE: %0.2f (+/- %0.2f)\" % (-1*scores.mean(), scores.std() * 2))"
   ]
  },
  {
   "cell_type": "code",
   "execution_count": 36,
   "metadata": {},
   "outputs": [
    {
     "name": "stdout",
     "output_type": "stream",
     "text": [
      "MSE: 1.93 (+/- 0.91)\n"
     ]
    }
   ],
   "source": [
    "regr_1 = DecisionTreeRegressor(max_depth=2)\n",
    "\n",
    "scores = cross_val_score(regr_1, X_combined, y, cv=5, scoring='neg_mean_squared_error')\n",
    "print(\"MSE: %0.2f (+/- %0.2f)\" % (-1*scores.mean(), scores.std() * 2))"
   ]
  },
  {
   "cell_type": "code",
   "execution_count": 37,
   "metadata": {},
   "outputs": [
    {
     "name": "stdout",
     "output_type": "stream",
     "text": [
      "MSE: 2.02 (+/- 1.92)\n"
     ]
    }
   ],
   "source": [
    "regr_2 = DecisionTreeRegressor(max_depth=5)\n",
    "\n",
    "scores = cross_val_score(regr_2, X_combined, y, cv=5, scoring='neg_mean_squared_error')\n",
    "print(\"MSE: %0.2f (+/- %0.2f)\" % (-1*scores.mean(), scores.std() * 2))"
   ]
  },
  {
   "cell_type": "code",
   "execution_count": 38,
   "metadata": {},
   "outputs": [
    {
     "name": "stdout",
     "output_type": "stream",
     "text": [
      "MSE: 3.1516185185185197\n"
     ]
    }
   ],
   "source": [
    "X_train, X_test, y_train, y_test = train_test_split(X_combined, y.values, test_size=0.1, random_state=0)\n",
    "regr_2.fit(X_train, y_train)\n",
    "y_pred = regr_2.predict(X_test)\n",
    "\n",
    "print('MSE: {}'.format(mean_squared_error(y_test, y_pred)))"
   ]
  },
  {
   "cell_type": "markdown",
   "metadata": {},
   "source": [
    "## Conclusion\n",
    "\n",
    "This was a quick and dirty attempt at using machine learning to predict the logK values. None of the results should be considered statistically significant. The first run with just the X10-X18 variables actually performs the best, likely because it contains the most information. The condensed X1-X9 data loses a lot of information in the process, so the machine learning algorithms probably can't parse it out well enough, at least not with only 28 samples, so the second run doesn't perform well (about as accurate as guessing the logK value randomly). Expectedly, combining all the varaiables in the final run returns results that are between the two other runs. \n",
    "\n",
    "There are many routes for future work. The first thing would be to find a better matrix and vector normalization method that does not destroy so much information while still keeping the dimensionality reasonably low. If there were thousands of spreadsheets like '17.xlsx' and '19.xlsx' etc., we could train an neural network to learn a mapping of each of these X1-X9 to a smaller vector space. Another method might be in trying to categorize these X1-X9 and then use the category to describe the input instead of the raw data. \n",
    "\n",
    "We can also try different algorithms in the future, especially if we get more data in the future. "
   ]
  },
  {
   "cell_type": "code",
   "execution_count": 51,
   "metadata": {},
   "outputs": [],
   "source": [
    "results = []\n",
    "for i in range(X_combined.shape[0]):\n",
    "    result = {'logK' : y[i], 'sample' : i+1}\n",
    "    yhat = np.delete(y.values, i)\n",
    "    \n",
    "    # Combined X1-X18\n",
    "    dt_combined = DecisionTreeRegressor(max_depth=2)\n",
    "    lr_combined = linear_model.LinearRegression()\n",
    "    Xhat = np.delete(X_combined, i, axis=0)\n",
    "    dt_combined.fit(Xhat, yhat)\n",
    "    lr_combined.fit(Xhat, yhat)\n",
    "    result['regression_tree_X1-X18'] = dt_combined.predict(X_combined[i,:].reshape(1,-1))[0]\n",
    "    result['linear_regression_X1-X18'] = lr_combined.predict(X_combined[i,:].reshape(1,-1))[0]\n",
    "    \n",
    "    # X1-X9\n",
    "    dt_more = DecisionTreeRegressor(max_depth=2)\n",
    "    lr_more = linear_model.LinearRegression()\n",
    "    Xhat = np.delete(X_more_transformed, i, axis=0)\n",
    "    dt_more.fit(Xhat, yhat)\n",
    "    lr_more.fit(Xhat, yhat)\n",
    "    result['regression_tree_X1-X9'] = dt_more.predict(X_more_transformed[i,:].reshape(1,-1))[0]\n",
    "    result['linear_regression_X1-X9'] = lr_more.predict(X_more_transformed[i,:].reshape(1,-1))[0]\n",
    "    \n",
    "    # X10-X18\n",
    "    dt = DecisionTreeRegressor(max_depth=2)\n",
    "    lr = linear_model.LinearRegression()\n",
    "    Xhat = np.delete(X_transformed, i, axis=0)\n",
    "    dt.fit(Xhat, yhat)\n",
    "    lr.fit(Xhat, yhat)\n",
    "    result['regression_tree_X10-X18'] = dt.predict(X_transformed[i,:].reshape(1,-1))[0]\n",
    "    result['linear_regression_X10-X18'] = lr.predict(X_transformed[i,:].reshape(1,-1))[0]\n",
    "    \n",
    "    results.append(result)    "
   ]
  },
  {
   "cell_type": "code",
   "execution_count": 52,
   "metadata": {},
   "outputs": [
    {
     "data": {
      "text/html": [
       "<div>\n",
       "<style scoped>\n",
       "    .dataframe tbody tr th:only-of-type {\n",
       "        vertical-align: middle;\n",
       "    }\n",
       "\n",
       "    .dataframe tbody tr th {\n",
       "        vertical-align: top;\n",
       "    }\n",
       "\n",
       "    .dataframe thead th {\n",
       "        text-align: right;\n",
       "    }\n",
       "</style>\n",
       "<table border=\"1\" class=\"dataframe\">\n",
       "  <thead>\n",
       "    <tr style=\"text-align: right;\">\n",
       "      <th></th>\n",
       "      <th>linear_regression_X1-X18</th>\n",
       "      <th>linear_regression_X1-X9</th>\n",
       "      <th>linear_regression_X10-X18</th>\n",
       "      <th>logK</th>\n",
       "      <th>regression_tree_X1-X18</th>\n",
       "      <th>regression_tree_X1-X9</th>\n",
       "      <th>regression_tree_X10-X18</th>\n",
       "      <th>sample</th>\n",
       "    </tr>\n",
       "  </thead>\n",
       "  <tbody>\n",
       "    <tr>\n",
       "      <th>0</th>\n",
       "      <td>4.400000</td>\n",
       "      <td>4.390000</td>\n",
       "      <td>4.912421</td>\n",
       "      <td>4.39</td>\n",
       "      <td>5.792308</td>\n",
       "      <td>4.606667</td>\n",
       "      <td>5.792308</td>\n",
       "      <td>1</td>\n",
       "    </tr>\n",
       "    <tr>\n",
       "      <th>1</th>\n",
       "      <td>4.380000</td>\n",
       "      <td>4.390000</td>\n",
       "      <td>5.777148</td>\n",
       "      <td>4.39</td>\n",
       "      <td>5.792308</td>\n",
       "      <td>4.606667</td>\n",
       "      <td>5.792308</td>\n",
       "      <td>2</td>\n",
       "    </tr>\n",
       "    <tr>\n",
       "      <th>2</th>\n",
       "      <td>7.701589</td>\n",
       "      <td>10.070999</td>\n",
       "      <td>6.645057</td>\n",
       "      <td>4.63</td>\n",
       "      <td>6.067778</td>\n",
       "      <td>4.526667</td>\n",
       "      <td>6.067778</td>\n",
       "      <td>3</td>\n",
       "    </tr>\n",
       "    <tr>\n",
       "      <th>3</th>\n",
       "      <td>0.787505</td>\n",
       "      <td>7.845815</td>\n",
       "      <td>5.326271</td>\n",
       "      <td>4.80</td>\n",
       "      <td>6.048889</td>\n",
       "      <td>5.262143</td>\n",
       "      <td>6.048889</td>\n",
       "      <td>4</td>\n",
       "    </tr>\n",
       "    <tr>\n",
       "      <th>4</th>\n",
       "      <td>6.797545</td>\n",
       "      <td>6.265598</td>\n",
       "      <td>5.688477</td>\n",
       "      <td>4.90</td>\n",
       "      <td>7.363333</td>\n",
       "      <td>7.363333</td>\n",
       "      <td>6.037778</td>\n",
       "      <td>5</td>\n",
       "    </tr>\n",
       "  </tbody>\n",
       "</table>\n",
       "</div>"
      ],
      "text/plain": [
       "   linear_regression_X1-X18  linear_regression_X1-X9  \\\n",
       "0                  4.400000                 4.390000   \n",
       "1                  4.380000                 4.390000   \n",
       "2                  7.701589                10.070999   \n",
       "3                  0.787505                 7.845815   \n",
       "4                  6.797545                 6.265598   \n",
       "\n",
       "   linear_regression_X10-X18  logK  regression_tree_X1-X18  \\\n",
       "0                   4.912421  4.39                5.792308   \n",
       "1                   5.777148  4.39                5.792308   \n",
       "2                   6.645057  4.63                6.067778   \n",
       "3                   5.326271  4.80                6.048889   \n",
       "4                   5.688477  4.90                7.363333   \n",
       "\n",
       "   regression_tree_X1-X9  regression_tree_X10-X18  sample  \n",
       "0               4.606667                 5.792308       1  \n",
       "1               4.606667                 5.792308       2  \n",
       "2               4.526667                 6.067778       3  \n",
       "3               5.262143                 6.048889       4  \n",
       "4               7.363333                 6.037778       5  "
      ]
     },
     "execution_count": 52,
     "metadata": {},
     "output_type": "execute_result"
    }
   ],
   "source": [
    "results_df = pd.DataFrame(results)\n",
    "results_df.head()"
   ]
  },
  {
   "cell_type": "code",
   "execution_count": 54,
   "metadata": {},
   "outputs": [],
   "source": [
    "results_df.to_excel('../data/results/leave_one_out.xlsx')"
   ]
  },
  {
   "cell_type": "code",
   "execution_count": null,
   "metadata": {},
   "outputs": [],
   "source": []
  }
 ],
 "metadata": {
  "kernelspec": {
   "display_name": "Python 2",
   "language": "python",
   "name": "python2"
  },
  "language_info": {
   "codemirror_mode": {
    "name": "ipython",
    "version": 2
   },
   "file_extension": ".py",
   "mimetype": "text/x-python",
   "name": "python",
   "nbconvert_exporter": "python",
   "pygments_lexer": "ipython2",
   "version": "2.7.10"
  }
 },
 "nbformat": 4,
 "nbformat_minor": 2
}
