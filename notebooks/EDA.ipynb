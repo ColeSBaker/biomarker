{
 "cells": [
  {
   "cell_type": "code",
   "execution_count": 1,
   "metadata": {},
   "outputs": [],
   "source": [
    "import os\n",
    "\n",
    "import pandas as pd\n",
    "import numpy as np"
   ]
  },
  {
   "cell_type": "code",
   "execution_count": 2,
   "metadata": {},
   "outputs": [],
   "source": [
    "raw_loc_base = '../data/raw'\n",
    "file_numbers = ['17', '19', '20','21','22','23','25','26','41','42','44','45']"
   ]
  },
  {
   "cell_type": "code",
   "execution_count": 3,
   "metadata": {},
   "outputs": [],
   "source": [
    "master_name = 'Input information and X10 - X18.xlsx'\n",
    "master_loc = os.path.join(raw_loc_base, master_name)\n",
    "master = pd.read_excel(master_loc, sheet='inputs', header=0)"
   ]
  },
  {
   "cell_type": "code",
   "execution_count": 4,
   "metadata": {},
   "outputs": [
    {
     "data": {
      "text/html": [
       "<div>\n",
       "<style scoped>\n",
       "    .dataframe tbody tr th:only-of-type {\n",
       "        vertical-align: middle;\n",
       "    }\n",
       "\n",
       "    .dataframe tbody tr th {\n",
       "        vertical-align: top;\n",
       "    }\n",
       "\n",
       "    .dataframe thead th {\n",
       "        text-align: right;\n",
       "    }\n",
       "</style>\n",
       "<table border=\"1\" class=\"dataframe\">\n",
       "  <thead>\n",
       "    <tr style=\"text-align: right;\">\n",
       "      <th></th>\n",
       "      <th>Input</th>\n",
       "      <th>Key</th>\n",
       "      <th>X10: Category Method</th>\n",
       "      <th>X11: Temperature (K)</th>\n",
       "      <th>X12: [Salt*Valency]</th>\n",
       "      <th>X13: Category Salt type</th>\n",
       "      <th>X14: [Buffer] (mM)</th>\n",
       "      <th>X15: pH</th>\n",
       "      <th>X16: CI number</th>\n",
       "      <th>X17: CI</th>\n",
       "      <th>X18: CP</th>\n",
       "      <th>Output: logK</th>\n",
       "    </tr>\n",
       "  </thead>\n",
       "  <tbody>\n",
       "    <tr>\n",
       "      <th>0</th>\n",
       "      <td>1</td>\n",
       "      <td>17</td>\n",
       "      <td>A</td>\n",
       "      <td>298</td>\n",
       "      <td>0</td>\n",
       "      <td>0</td>\n",
       "      <td>0</td>\n",
       "      <td>6.00</td>\n",
       "      <td>0</td>\n",
       "      <td>NaN</td>\n",
       "      <td>CP_3</td>\n",
       "      <td>4.39</td>\n",
       "    </tr>\n",
       "    <tr>\n",
       "      <th>1</th>\n",
       "      <td>2</td>\n",
       "      <td>17</td>\n",
       "      <td>B</td>\n",
       "      <td>298</td>\n",
       "      <td>0</td>\n",
       "      <td>0</td>\n",
       "      <td>50</td>\n",
       "      <td>4.74</td>\n",
       "      <td>0</td>\n",
       "      <td>NaN</td>\n",
       "      <td>NaN</td>\n",
       "      <td>4.39</td>\n",
       "    </tr>\n",
       "    <tr>\n",
       "      <th>2</th>\n",
       "      <td>3</td>\n",
       "      <td>19</td>\n",
       "      <td>A</td>\n",
       "      <td>298</td>\n",
       "      <td>0</td>\n",
       "      <td>0</td>\n",
       "      <td>0</td>\n",
       "      <td>6.00</td>\n",
       "      <td>1</td>\n",
       "      <td>CI_2</td>\n",
       "      <td>CP_3</td>\n",
       "      <td>4.63</td>\n",
       "    </tr>\n",
       "    <tr>\n",
       "      <th>3</th>\n",
       "      <td>4</td>\n",
       "      <td>20</td>\n",
       "      <td>A</td>\n",
       "      <td>298</td>\n",
       "      <td>0</td>\n",
       "      <td>0</td>\n",
       "      <td>0</td>\n",
       "      <td>6.00</td>\n",
       "      <td>2</td>\n",
       "      <td>CI_1</td>\n",
       "      <td>CP_3</td>\n",
       "      <td>4.80</td>\n",
       "    </tr>\n",
       "    <tr>\n",
       "      <th>4</th>\n",
       "      <td>5</td>\n",
       "      <td>21</td>\n",
       "      <td>A</td>\n",
       "      <td>298</td>\n",
       "      <td>0</td>\n",
       "      <td>0</td>\n",
       "      <td>0</td>\n",
       "      <td>6.00</td>\n",
       "      <td>2</td>\n",
       "      <td>CI_2</td>\n",
       "      <td>CP_3</td>\n",
       "      <td>4.90</td>\n",
       "    </tr>\n",
       "  </tbody>\n",
       "</table>\n",
       "</div>"
      ],
      "text/plain": [
       "   Input  Key X10: Category Method  X11: Temperature (K)  X12: [Salt*Valency]  \\\n",
       "0      1   17                    A                   298                    0   \n",
       "1      2   17                    B                   298                    0   \n",
       "2      3   19                    A                   298                    0   \n",
       "3      4   20                    A                   298                    0   \n",
       "4      5   21                    A                   298                    0   \n",
       "\n",
       "   X13: Category Salt type  X14: [Buffer] (mM)  X15: pH  X16: CI number  \\\n",
       "0                        0                   0     6.00               0   \n",
       "1                        0                  50     4.74               0   \n",
       "2                        0                   0     6.00               1   \n",
       "3                        0                   0     6.00               2   \n",
       "4                        0                   0     6.00               2   \n",
       "\n",
       "  X17: CI  X18: CP  Output: logK  \n",
       "0      NaN    CP_3          4.39  \n",
       "1      NaN     NaN          4.39  \n",
       "2     CI_2    CP_3          4.63  \n",
       "3     CI_1    CP_3          4.80  \n",
       "4     CI_2    CP_3          4.90  "
      ]
     },
     "execution_count": 4,
     "metadata": {},
     "output_type": "execute_result"
    }
   ],
   "source": [
    "master.head()"
   ]
  },
  {
   "cell_type": "code",
   "execution_count": 5,
   "metadata": {},
   "outputs": [],
   "source": [
    "def read_X1(file_name, sheet_name='X1', col_names=['atom_number', 'AMU', 'x', 'y', 'z']):\n",
    "    return pd.read_excel(file_name, sheet_name=sheet_name, header=None, names=col_names)\n",
    "    \n",
    "def read_X2(file_name, sheet_name='X2', col_name='occupied'):\n",
    "    df = pd.read_excel(file_name, sheet_name=sheet_name, header=None)\n",
    "    flat = df.values.flatten()\n",
    "    return pd.Series(flat[~np.isnan(flat)]).rename(col_name)\n",
    "\n",
    "def read_X2V(file_name, sheet_name='X2V', col_name='virtual'):\n",
    "    df = pd.read_excel(file_name, sheet_name=sheet_name, header=None)\n",
    "    flat = df.values.flatten()\n",
    "    return pd.Series(flat[~np.isnan(flat)]).rename(col_name)\n",
    "\n",
    "def read_X3(file_name, sheet_name='X3'):\n",
    "    return pd.read_excel(file_name, sheet_name=sheet_name, header=None)\n",
    "\n",
    "def read_X4(file_name, sheet_name='X4'):\n",
    "    return pd.read_excel(file_name, sheet_name=sheet_name, header=None)\n",
    "\n",
    "def read_X5(file_name, sheet_name='X5', col_names=['electric_potential', 'x', 'y', 'z']):\n",
    "    return pd.read_excel(file_name, sheet_name=sheet_name, header=None, names=col_names)\n",
    "\n",
    "def read_X6(file_name, sheet_name='X6', col_names=['XX', 'YY', 'ZZ', 'XY', 'XZ', 'YZ']):\n",
    "    return pd.read_excel(file_name, sheet_name=sheet_name, header=None, names=col_names)\n",
    "\n",
    "def read_X7(file_name, sheet_name='X7'):\n",
    "    return pd.read_excel(file_name, sheet_name='X7', header=None)\n",
    "\n",
    "def read_X8(file_name, sheet_name='X8', col_name='SCF'):\n",
    "    df = pd.read_excel(file_name, sheet_name=sheet_name, header=None)\n",
    "    flat = df.values.flatten()\n",
    "    return pd.Series(flat[~np.isnan(flat)]).rename(col_name)\n",
    "    \n",
    "def read_X9(file_name, sheet_name='X9', col_name='MO'):\n",
    "    df = pd.read_excel(file_name, sheet_name=sheet_name, header=None)\n",
    "    flat = df.values.flatten()\n",
    "    return pd.Series(flat[~np.isnan(flat)]).rename(col_name)"
   ]
  },
  {
   "cell_type": "code",
   "execution_count": 8,
   "metadata": {},
   "outputs": [
    {
     "name": "stdout",
     "output_type": "stream",
     "text": [
      "(34, 5)\n",
      "(23, 5)\n",
      "(50, 5)\n",
      "(16, 5)\n",
      "(16, 5)\n",
      "(16, 5)\n",
      "(17, 5)\n",
      "(28, 5)\n",
      "(23, 5)\n",
      "(22, 5)\n",
      "(32, 5)\n",
      "(23, 5)\n"
     ]
    }
   ],
   "source": [
    "for num in file_numbers:\n",
    "    x = read_X1(os.path.join(raw_loc_base, num+'.xlsx'))\n",
    "    print(x.shape)"
   ]
  },
  {
   "cell_type": "code",
   "execution_count": 7,
   "metadata": {},
   "outputs": [
    {
     "name": "stdout",
     "output_type": "stream",
     "text": [
      "(50,)\n",
      "(41,)\n",
      "(70,)\n",
      "(29,)\n",
      "(29,)\n",
      "(29,)\n",
      "(29,)\n",
      "(49,)\n",
      "(40,)\n",
      "(32,)\n",
      "(61,)\n",
      "(41,)\n"
     ]
    }
   ],
   "source": [
    "for num in file_numbers:\n",
    "    x = read_X2(os.path.join(raw_loc_base, num+'.xlsx'))\n",
    "    print(x.shape)"
   ]
  },
  {
   "cell_type": "code",
   "execution_count": 6,
   "metadata": {},
   "outputs": [
    {
     "name": "stdout",
     "output_type": "stream",
     "text": [
      "(383,)\n",
      "(284,)\n",
      "(549,)\n",
      "(201,)\n",
      "(203,)\n",
      "(202,)\n",
      "(209,)\n",
      "(356,)\n",
      "(264,)\n",
      "(242,)\n",
      "(424,)\n",
      "(277,)\n"
     ]
    }
   ],
   "source": [
    "for num in file_numbers:\n",
    "    x = read_X2V(os.path.join(raw_loc_base, num+'.xlsx'))\n",
    "    print(x.shape)"
   ]
  },
  {
   "cell_type": "code",
   "execution_count": 9,
   "metadata": {},
   "outputs": [
    {
     "name": "stdout",
     "output_type": "stream",
     "text": [
      "(34, 34)\n",
      "(23, 23)\n",
      "(50, 50)\n",
      "(17, 16)\n",
      "(16, 16)\n",
      "(16, 16)\n",
      "(17, 17)\n",
      "(28, 28)\n",
      "(23, 23)\n",
      "(22, 22)\n",
      "(32, 32)\n",
      "(23, 23)\n"
     ]
    }
   ],
   "source": [
    "for num in file_numbers:\n",
    "    x = read_X3(os.path.join(raw_loc_base, num+'.xlsx'))\n",
    "    print(x.shape)"
   ]
  },
  {
   "cell_type": "code",
   "execution_count": 10,
   "metadata": {},
   "outputs": [
    {
     "name": "stdout",
     "output_type": "stream",
     "text": [
      "(34, 3)\n",
      "(23, 3)\n",
      "(50, 3)\n",
      "(16, 3)\n",
      "(16, 3)\n",
      "(16, 3)\n",
      "(17, 3)\n",
      "(28, 3)\n",
      "(23, 3)\n",
      "(22, 3)\n",
      "(32, 3)\n",
      "(23, 3)\n"
     ]
    }
   ],
   "source": [
    "for num in file_numbers:\n",
    "    x = read_X4(os.path.join(raw_loc_base, num+'.xlsx'))\n",
    "    print(x.shape)"
   ]
  },
  {
   "cell_type": "code",
   "execution_count": 11,
   "metadata": {},
   "outputs": [
    {
     "name": "stdout",
     "output_type": "stream",
     "text": [
      "(34, 4)\n",
      "(23, 4)\n",
      "(50, 4)\n",
      "(16, 4)\n",
      "(16, 4)\n",
      "(16, 4)\n",
      "(17, 4)\n",
      "(28, 4)\n",
      "(23, 4)\n",
      "(22, 4)\n",
      "(32, 4)\n",
      "(23, 4)\n"
     ]
    }
   ],
   "source": [
    "for num in file_numbers:\n",
    "    x = read_X5(os.path.join(raw_loc_base, num+'.xlsx'))\n",
    "    print(x.shape)"
   ]
  },
  {
   "cell_type": "code",
   "execution_count": 12,
   "metadata": {},
   "outputs": [
    {
     "name": "stdout",
     "output_type": "stream",
     "text": [
      "(34, 6)\n",
      "(23, 6)\n",
      "(50, 6)\n",
      "(16, 6)\n",
      "(16, 6)\n",
      "(16, 6)\n",
      "(17, 6)\n",
      "(28, 6)\n",
      "(23, 6)\n",
      "(22, 6)\n",
      "(32, 6)\n",
      "(23, 6)\n"
     ]
    }
   ],
   "source": [
    "for num in file_numbers:\n",
    "    x = read_X6(os.path.join(raw_loc_base, num+'.xlsx'))\n",
    "    print(x.shape)"
   ]
  },
  {
   "cell_type": "code",
   "execution_count": 13,
   "metadata": {},
   "outputs": [
    {
     "name": "stdout",
     "output_type": "stream",
     "text": [
      "(34, 3)\n",
      "(23, 3)\n",
      "(50, 3)\n",
      "(16, 3)\n",
      "(16, 3)\n",
      "(16, 3)\n",
      "(17, 3)\n",
      "(28, 3)\n",
      "(23, 3)\n",
      "(22, 3)\n",
      "(32, 3)\n",
      "(23, 3)\n"
     ]
    }
   ],
   "source": [
    "for num in file_numbers:\n",
    "    x = read_X7(os.path.join(raw_loc_base, num+'.xlsx'))\n",
    "    print(x.shape)"
   ]
  },
  {
   "cell_type": "code",
   "execution_count": 16,
   "metadata": {},
   "outputs": [
    {
     "name": "stdout",
     "output_type": "stream",
     "text": [
      "(93961,)\n",
      "(53301,)\n",
      "(192510,)\n",
      "(27028,)\n",
      "(27028,)\n",
      "(27028,)\n",
      "(28680,)\n",
      "(82621,)\n",
      "(46360,)\n",
      "(37675,)\n",
      "(122265,)\n",
      "(51040,)\n"
     ]
    }
   ],
   "source": [
    "for num in file_numbers:\n",
    "    x = read_X8(os.path.join(raw_loc_base, num+'.xlsx'))\n",
    "    print(x.shape)"
   ]
  },
  {
   "cell_type": "code",
   "execution_count": 15,
   "metadata": {},
   "outputs": [
    {
     "name": "stdout",
     "output_type": "stream",
     "text": [
      "(187489,)\n",
      "(105950,)\n",
      "(383780,)\n",
      "(53360,)\n",
      "(53824,)\n",
      "(53592,)\n",
      "(56882,)\n",
      "(164430,)\n",
      "(92416,)\n",
      "(75076,)\n",
      "(239590,)\n",
      "(101442,)\n"
     ]
    }
   ],
   "source": [
    "for num in file_numbers:\n",
    "    x = read_X9(os.path.join(raw_loc_base, num+'.xlsx'))\n",
    "    print(x.shape)"
   ]
  },
  {
   "cell_type": "code",
   "execution_count": null,
   "metadata": {},
   "outputs": [],
   "source": []
  }
 ],
 "metadata": {
  "kernelspec": {
   "display_name": "Python 3",
   "language": "python",
   "name": "python3"
  },
  "language_info": {
   "codemirror_mode": {
    "name": "ipython",
    "version": 3
   },
   "file_extension": ".py",
   "mimetype": "text/x-python",
   "name": "python",
   "nbconvert_exporter": "python",
   "pygments_lexer": "ipython3",
   "version": "3.6.4"
  }
 },
 "nbformat": 4,
 "nbformat_minor": 2
}
