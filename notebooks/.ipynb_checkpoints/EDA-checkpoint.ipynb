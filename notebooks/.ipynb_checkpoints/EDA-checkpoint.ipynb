{
 "cells": [
  {
   "cell_type": "code",
   "execution_count": 1,
   "metadata": {},
   "outputs": [],
   "source": [
    "import os\n",
    "\n",
    "import pandas as pd\n",
    "import numpy as np"
   ]
  },
  {
   "cell_type": "code",
   "execution_count": 2,
   "metadata": {},
   "outputs": [],
   "source": [
    "raw_loc_base = '../data/raw'\n",
    "file_numbers = ['17', '19', '20','21','22','23','25','26','41','42','44','45']"
   ]
  },
  {
   "cell_type": "code",
   "execution_count": 3,
   "metadata": {},
   "outputs": [],
   "source": [
    "master_name = 'Input information and X10 - X18.xlsx'\n",
    "master_loc = os.path.join(raw_loc_base, master_name)\n",
    "master = pd.read_excel(master_loc, sheet='inputs', header=0)"
   ]
  },
  {
   "cell_type": "code",
   "execution_count": 4,
   "metadata": {},
   "outputs": [
    {
     "data": {
      "text/html": [
       "<div>\n",
       "<style scoped>\n",
       "    .dataframe tbody tr th:only-of-type {\n",
       "        vertical-align: middle;\n",
       "    }\n",
       "\n",
       "    .dataframe tbody tr th {\n",
       "        vertical-align: top;\n",
       "    }\n",
       "\n",
       "    .dataframe thead th {\n",
       "        text-align: right;\n",
       "    }\n",
       "</style>\n",
       "<table border=\"1\" class=\"dataframe\">\n",
       "  <thead>\n",
       "    <tr style=\"text-align: right;\">\n",
       "      <th></th>\n",
       "      <th>Input</th>\n",
       "      <th>Key</th>\n",
       "      <th>X10: Category Method</th>\n",
       "      <th>X11: Temperature (K)</th>\n",
       "      <th>X12: [Salt*Valency]</th>\n",
       "      <th>X13: Category Salt type</th>\n",
       "      <th>X14: [Buffer] (mM)</th>\n",
       "      <th>X15: pH</th>\n",
       "      <th>X16: CI number</th>\n",
       "      <th>X17: CI</th>\n",
       "      <th>X18: CP</th>\n",
       "      <th>Output: logK</th>\n",
       "    </tr>\n",
       "  </thead>\n",
       "  <tbody>\n",
       "    <tr>\n",
       "      <th>0</th>\n",
       "      <td>1</td>\n",
       "      <td>17</td>\n",
       "      <td>A</td>\n",
       "      <td>298</td>\n",
       "      <td>0</td>\n",
       "      <td>0</td>\n",
       "      <td>0</td>\n",
       "      <td>6.00</td>\n",
       "      <td>0</td>\n",
       "      <td>NaN</td>\n",
       "      <td>CP_3</td>\n",
       "      <td>4.39</td>\n",
       "    </tr>\n",
       "    <tr>\n",
       "      <th>1</th>\n",
       "      <td>2</td>\n",
       "      <td>17</td>\n",
       "      <td>B</td>\n",
       "      <td>298</td>\n",
       "      <td>0</td>\n",
       "      <td>0</td>\n",
       "      <td>50</td>\n",
       "      <td>4.74</td>\n",
       "      <td>0</td>\n",
       "      <td>NaN</td>\n",
       "      <td>NaN</td>\n",
       "      <td>4.39</td>\n",
       "    </tr>\n",
       "    <tr>\n",
       "      <th>2</th>\n",
       "      <td>3</td>\n",
       "      <td>19</td>\n",
       "      <td>A</td>\n",
       "      <td>298</td>\n",
       "      <td>0</td>\n",
       "      <td>0</td>\n",
       "      <td>0</td>\n",
       "      <td>6.00</td>\n",
       "      <td>1</td>\n",
       "      <td>CI_2</td>\n",
       "      <td>CP_3</td>\n",
       "      <td>4.63</td>\n",
       "    </tr>\n",
       "    <tr>\n",
       "      <th>3</th>\n",
       "      <td>4</td>\n",
       "      <td>20</td>\n",
       "      <td>A</td>\n",
       "      <td>298</td>\n",
       "      <td>0</td>\n",
       "      <td>0</td>\n",
       "      <td>0</td>\n",
       "      <td>6.00</td>\n",
       "      <td>2</td>\n",
       "      <td>CI_1</td>\n",
       "      <td>CP_3</td>\n",
       "      <td>4.80</td>\n",
       "    </tr>\n",
       "    <tr>\n",
       "      <th>4</th>\n",
       "      <td>5</td>\n",
       "      <td>21</td>\n",
       "      <td>A</td>\n",
       "      <td>298</td>\n",
       "      <td>0</td>\n",
       "      <td>0</td>\n",
       "      <td>0</td>\n",
       "      <td>6.00</td>\n",
       "      <td>2</td>\n",
       "      <td>CI_2</td>\n",
       "      <td>CP_3</td>\n",
       "      <td>4.90</td>\n",
       "    </tr>\n",
       "  </tbody>\n",
       "</table>\n",
       "</div>"
      ],
      "text/plain": [
       "   Input  Key X10: Category Method  X11: Temperature (K)  X12: [Salt*Valency]  \\\n",
       "0      1   17                    A                   298                    0   \n",
       "1      2   17                    B                   298                    0   \n",
       "2      3   19                    A                   298                    0   \n",
       "3      4   20                    A                   298                    0   \n",
       "4      5   21                    A                   298                    0   \n",
       "\n",
       "   X13: Category Salt type  X14: [Buffer] (mM)  X15: pH  X16: CI number  \\\n",
       "0                        0                   0     6.00               0   \n",
       "1                        0                  50     4.74               0   \n",
       "2                        0                   0     6.00               1   \n",
       "3                        0                   0     6.00               2   \n",
       "4                        0                   0     6.00               2   \n",
       "\n",
       "  X17: CI  X18: CP  Output: logK  \n",
       "0      NaN    CP_3          4.39  \n",
       "1      NaN     NaN          4.39  \n",
       "2     CI_2    CP_3          4.63  \n",
       "3     CI_1    CP_3          4.80  \n",
       "4     CI_2    CP_3          4.90  "
      ]
     },
     "execution_count": 4,
     "metadata": {},
     "output_type": "execute_result"
    }
   ],
   "source": [
    "master.head()"
   ]
  },
  {
   "cell_type": "code",
   "execution_count": 5,
   "metadata": {},
   "outputs": [],
   "source": [
    "def read_X1(file_name, sheet_name='X1', col_names=['atom_number', 'AMU', 'x', 'y', 'z']):\n",
    "    return pd.read_excel(file_name, sheet_name=sheet_name, header=None, names=col_names)\n",
    "    \n",
    "def read_X2(file_name, sheet_name='X2', col_name='occupied'):\n",
    "    df = pd.read_excel(file_name, sheet_name=sheet_name, header=None)\n",
    "    flat = df.values.flatten()\n",
    "    return pd.Series(flat[~np.isnan(flat)]).rename(col_name)\n",
    "\n",
    "def read_X2V(file_name, sheet_name='X2V', col_name='virtual'):\n",
    "    df = pd.read_excel(file_name, sheet_name=sheet_name, header=None)\n",
    "    flat = df.values.flatten()\n",
    "    return pd.Series(flat[~np.isnan(flat)]).rename(col_name)\n",
    "\n",
    "def read_X3(file_name, sheet_name='X3'):\n",
    "    return pd.read_excel(file_name, sheet_name=sheet_name, header=None)\n",
    "\n",
    "def read_X4(file_name, sheet_name='X4'):\n",
    "    return pd.read_excel(file_name, sheet_name=sheet_name, header=None)\n",
    "\n",
    "def read_X5(file_name, sheet_name='X5', col_names=['electric_potential', 'x', 'y', 'z']):\n",
    "    return pd.read_excel(file_name, sheet_name=sheet_name, header=None, names=col_names)\n",
    "\n",
    "def read_X6(file_name, sheet_name='X6', col_names=['XX', 'YY', 'ZZ', 'XY', 'XZ', 'YZ']):\n",
    "    return pd.read_excel(file_name, sheet_name=sheet_name, header=None, names=col_names)\n",
    "\n",
    "def read_X7(file_name, sheet_name='X7'):\n",
    "    return pd.read_excel(file_name, sheet_name='X7', header=None)\n",
    "\n",
    "def read_X8(file_name, sheet_name='X8', col_name='SCF'):\n",
    "    df = pd.read_excel(file_name, sheet_name=sheet_name, header=None)\n",
    "    flat = df.values.flatten()\n",
    "    return pd.Series(flat[~np.isnan(flat)]).rename(col_name)\n",
    "    \n",
    "def read_X9(file_name, sheet_name='X9', col_name='MO'):\n",
    "    df = pd.read_excel(file_name, sheet_name=sheet_name, header=None)\n",
    "    flat = df.values.flatten()\n",
    "    return pd.Series(flat[~np.isnan(flat)]).rename(col_name)"
   ]
  },
  {
   "cell_type": "code",
   "execution_count": 22,
   "metadata": {},
   "outputs": [],
   "source": [
    "X1 = []\n",
    "for num in file_numbers:\n",
    "    x = read_X1(os.path.join(raw_loc_base, num+'.xlsx'))\n",
    "    u,s,v = np.linalg.svd(x.values)\n",
    "    X1.append(s)"
   ]
  },
  {
   "cell_type": "code",
   "execution_count": 23,
   "metadata": {},
   "outputs": [],
   "source": [
    "X2 = []\n",
    "for num in file_numbers:\n",
    "    x = read_X2(os.path.join(raw_loc_base, num+'.xlsx'))\n",
    "    X2.append(np.mean(x))"
   ]
  },
  {
   "cell_type": "code",
   "execution_count": 24,
   "metadata": {},
   "outputs": [],
   "source": [
    "X2V = []\n",
    "for num in file_numbers:\n",
    "    x = read_X2V(os.path.join(raw_loc_base, num+'.xlsx'))\n",
    "    X2V.append(np.mean(x))"
   ]
  },
  {
   "cell_type": "code",
   "execution_count": 25,
   "metadata": {},
   "outputs": [],
   "source": [
    "X3 = []\n",
    "cutoff = 5\n",
    "for num in file_numbers:\n",
    "    x = read_X3(os.path.join(raw_loc_base, num+'.xlsx'))\n",
    "    u,s,v = np.linalg.svd(x.values)\n",
    "    X3.append(s[:cutoff])"
   ]
  },
  {
   "cell_type": "code",
   "execution_count": 26,
   "metadata": {},
   "outputs": [],
   "source": [
    "X4 = []\n",
    "for num in file_numbers:\n",
    "    x = read_X4(os.path.join(raw_loc_base, num+'.xlsx'))\n",
    "    u,s,v = np.linalg.svd(x.values)\n",
    "    X4.append(s)"
   ]
  },
  {
   "cell_type": "code",
   "execution_count": 27,
   "metadata": {},
   "outputs": [],
   "source": [
    "X5 = []\n",
    "for num in file_numbers:\n",
    "    x = read_X5(os.path.join(raw_loc_base, num+'.xlsx'))\n",
    "    u,s,v = np.linalg.svd(x.values)\n",
    "    X5.append(s)"
   ]
  },
  {
   "cell_type": "code",
   "execution_count": 30,
   "metadata": {},
   "outputs": [],
   "source": [
    "X6 = []\n",
    "cutoff = 5\n",
    "for num in file_numbers:\n",
    "    x = read_X6(os.path.join(raw_loc_base, num+'.xlsx'))\n",
    "    try:\n",
    "        u,s,v = np.linalg.svd(x.values)\n",
    "        X6.append(s[:cutoff])\n",
    "    except Exception:\n",
    "        X6.append(np.zeros(shape=(0,cutoff)))\n",
    "    "
   ]
  },
  {
   "cell_type": "code",
   "execution_count": 33,
   "metadata": {},
   "outputs": [],
   "source": [
    "X7 = []\n",
    "for num in file_numbers:\n",
    "    x = read_X7(os.path.join(raw_loc_base, num+'.xlsx'))\n",
    "    try:\n",
    "        u,s,v = np.linalg.svd(x.values)\n",
    "        X7.append(s)\n",
    "    except Exception:\n",
    "        X7.append(np.zeros(shape=(0,3)))"
   ]
  },
  {
   "cell_type": "code",
   "execution_count": 34,
   "metadata": {},
   "outputs": [],
   "source": [
    "X8 = []\n",
    "for num in file_numbers:\n",
    "    x = read_X8(os.path.join(raw_loc_base, num+'.xlsx'))\n",
    "    X8.append(np.mean(x))"
   ]
  },
  {
   "cell_type": "code",
   "execution_count": 35,
   "metadata": {},
   "outputs": [],
   "source": [
    "X9 = []\n",
    "for num in file_numbers:\n",
    "    x = read_X9(os.path.join(raw_loc_base, num+'.xlsx'))\n",
    "    X9.append(np.mean(x))"
   ]
  },
  {
   "cell_type": "code",
   "execution_count": 37,
   "metadata": {},
   "outputs": [
    {
     "data": {
      "text/plain": [
       "0    4.39\n",
       "1    4.39\n",
       "2    4.63\n",
       "3    4.80\n",
       "4    4.90\n",
       "Name: Output: logK, dtype: float64"
      ]
     },
     "execution_count": 37,
     "metadata": {},
     "output_type": "execute_result"
    }
   ],
   "source": [
    "y = master['Output: logK']\n",
    "y.head()"
   ]
  },
  {
   "cell_type": "code",
   "execution_count": 43,
   "metadata": {},
   "outputs": [],
   "source": [
    "master_drop = master.drop(['Output: logK', 'Input'], axis=1)"
   ]
  },
  {
   "cell_type": "code",
   "execution_count": 44,
   "metadata": {},
   "outputs": [],
   "source": [
    "X = pd.get_dummies(master_drop)"
   ]
  },
  {
   "cell_type": "code",
   "execution_count": 46,
   "metadata": {},
   "outputs": [
    {
     "ename": "ModuleNotFoundError",
     "evalue": "No module named 'scipy'",
     "output_type": "error",
     "traceback": [
      "\u001b[0;31m---------------------------------------------------------------------------\u001b[0m",
      "\u001b[0;31mModuleNotFoundError\u001b[0m                       Traceback (most recent call last)",
      "\u001b[0;32m<ipython-input-46-a64fcbd15a6c>\u001b[0m in \u001b[0;36m<module>\u001b[0;34m()\u001b[0m\n\u001b[0;32m----> 1\u001b[0;31m \u001b[0;32mfrom\u001b[0m \u001b[0msklearn\u001b[0m \u001b[0;32mimport\u001b[0m \u001b[0mpreprocessing\u001b[0m\u001b[0;34m\u001b[0m\u001b[0m\n\u001b[0m\u001b[1;32m      2\u001b[0m \u001b[0;32mfrom\u001b[0m \u001b[0msklearn\u001b[0m\u001b[0;34m.\u001b[0m\u001b[0mmodel_selection\u001b[0m \u001b[0;32mimport\u001b[0m \u001b[0mcross_val_predict\u001b[0m\u001b[0;34m\u001b[0m\u001b[0m\n\u001b[1;32m      3\u001b[0m \u001b[0;32mfrom\u001b[0m \u001b[0msklearn\u001b[0m \u001b[0;32mimport\u001b[0m \u001b[0mlinear_model\u001b[0m\u001b[0;34m\u001b[0m\u001b[0m\n\u001b[1;32m      4\u001b[0m \u001b[0;32mimport\u001b[0m \u001b[0mmatplotlib\u001b[0m\u001b[0;34m.\u001b[0m\u001b[0mpyplot\u001b[0m \u001b[0;32mas\u001b[0m \u001b[0mplt\u001b[0m\u001b[0;34m\u001b[0m\u001b[0m\n\u001b[1;32m      5\u001b[0m \u001b[0;34m\u001b[0m\u001b[0m\n",
      "\u001b[0;32m~/.virtualenvs/biomarker/lib/python3.6/site-packages/sklearn/__init__.py\u001b[0m in \u001b[0;36m<module>\u001b[0;34m()\u001b[0m\n\u001b[1;32m    132\u001b[0m \u001b[0;32melse\u001b[0m\u001b[0;34m:\u001b[0m\u001b[0;34m\u001b[0m\u001b[0m\n\u001b[1;32m    133\u001b[0m     \u001b[0;32mfrom\u001b[0m \u001b[0;34m.\u001b[0m \u001b[0;32mimport\u001b[0m \u001b[0m__check_build\u001b[0m\u001b[0;34m\u001b[0m\u001b[0m\n\u001b[0;32m--> 134\u001b[0;31m     \u001b[0;32mfrom\u001b[0m \u001b[0;34m.\u001b[0m\u001b[0mbase\u001b[0m \u001b[0;32mimport\u001b[0m \u001b[0mclone\u001b[0m\u001b[0;34m\u001b[0m\u001b[0m\n\u001b[0m\u001b[1;32m    135\u001b[0m     \u001b[0m__check_build\u001b[0m  \u001b[0;31m# avoid flakes unused variable error\u001b[0m\u001b[0;34m\u001b[0m\u001b[0m\n\u001b[1;32m    136\u001b[0m \u001b[0;34m\u001b[0m\u001b[0m\n",
      "\u001b[0;32m~/.virtualenvs/biomarker/lib/python3.6/site-packages/sklearn/base.py\u001b[0m in \u001b[0;36m<module>\u001b[0;34m()\u001b[0m\n\u001b[1;32m      9\u001b[0m \u001b[0;34m\u001b[0m\u001b[0m\n\u001b[1;32m     10\u001b[0m \u001b[0;32mimport\u001b[0m \u001b[0mnumpy\u001b[0m \u001b[0;32mas\u001b[0m \u001b[0mnp\u001b[0m\u001b[0;34m\u001b[0m\u001b[0m\n\u001b[0;32m---> 11\u001b[0;31m \u001b[0;32mfrom\u001b[0m \u001b[0mscipy\u001b[0m \u001b[0;32mimport\u001b[0m \u001b[0msparse\u001b[0m\u001b[0;34m\u001b[0m\u001b[0m\n\u001b[0m\u001b[1;32m     12\u001b[0m \u001b[0;32mfrom\u001b[0m \u001b[0;34m.\u001b[0m\u001b[0mexternals\u001b[0m \u001b[0;32mimport\u001b[0m \u001b[0msix\u001b[0m\u001b[0;34m\u001b[0m\u001b[0m\n\u001b[1;32m     13\u001b[0m \u001b[0;32mfrom\u001b[0m \u001b[0;34m.\u001b[0m\u001b[0mutils\u001b[0m\u001b[0;34m.\u001b[0m\u001b[0mfixes\u001b[0m \u001b[0;32mimport\u001b[0m \u001b[0msignature\u001b[0m\u001b[0;34m\u001b[0m\u001b[0m\n",
      "\u001b[0;31mModuleNotFoundError\u001b[0m: No module named 'scipy'"
     ]
    }
   ],
   "source": [
    "from sklearn import preprocessing\n",
    "from sklearn.model_selection import cross_val_predict\n",
    "from sklearn import linear_model\n",
    "import matplotlib.pyplot as plt\n",
    "\n",
    "lr = linear_model.LinearRegression()\n",
    "X_train, X_test, y_train, y_test = train_test_split(X.values, y.values, test_size=0.1, random_state=0)\n",
    "scaler = preprocessing.StandardScaler().fit(X_train)\n",
    "X_train_transformed = scaler.transform(X_train)\n",
    "\n",
    "\n",
    "fig, ax = plt.subplots()\n",
    "ax.scatter(y, predicted, edgecolors=(0, 0, 0))\n",
    "ax.plot([y.min(), y.max()], [y.min(), y.max()], 'k--', lw=4)\n",
    "ax.set_xlabel('Measured')\n",
    "ax.set_ylabel('Predicted')\n",
    "plt.show()"
   ]
  },
  {
   "cell_type": "code",
   "execution_count": null,
   "metadata": {},
   "outputs": [],
   "source": []
  }
 ],
 "metadata": {
  "kernelspec": {
   "display_name": "Python 3",
   "language": "python",
   "name": "python3"
  },
  "language_info": {
   "codemirror_mode": {
    "name": "ipython",
    "version": 3
   },
   "file_extension": ".py",
   "mimetype": "text/x-python",
   "name": "python",
   "nbconvert_exporter": "python",
   "pygments_lexer": "ipython3",
   "version": "3.6.4"
  }
 },
 "nbformat": 4,
 "nbformat_minor": 2
}
